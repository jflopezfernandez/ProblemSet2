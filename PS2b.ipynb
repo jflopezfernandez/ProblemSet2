{
 "cells": [
  {
   "cell_type": "markdown",
   "metadata": {},
   "source": [
    "# [ENV 859, Advanced GIS](https://env859.github.io/environ859): Problem Set 2, part 1\n",
    "\n",
    "The following exercise consists of creating a series of Jupyter code cells. When finished, export your notebook to a new .ipynb file on your V: drive and then post that notebook file to Sakai. \n",
    "\n",
    "If you are unable to fully complete any of the code blocks, get as close as you can to the finished product, and I will award partial credit where it's due. Feel free to be creative in striving for partial credit. For example, if you are unable to read in a file to get the first line, copy the first line and paste it in as a variable. *Adding comments can be very helpful in awarding partial credit*"
   ]
  },
  {
   "cell_type": "markdown",
   "metadata": {},
   "source": [
    "## Part 1\n",
    "### 1. (10 pts) Python syntax & string manipulation\n",
    "**Modify the Python code** in the cell below so that it prints out what's below, *in exactly the format shown*. Be sure to include the variables listed in your print statement(s) and maintain the first line as a comment. Strive to use as few edits to the code as needed.\n",
    "```\n",
    "Denali, once known as \"Mt. McKinley,\"\n",
    "is 20322' above sea level.\n",
    "```"
   ]
  },
  {
   "cell_type": "code",
   "execution_count": 1,
   "metadata": {},
   "outputs": [
    {
     "name": "stdout",
     "output_type": "stream",
     "text": [
      "Denali, once known as \"Mt. McKinley,\"\n",
      "is 20322' above sea level.\n"
     ]
    }
   ],
   "source": [
    "/*-PS2: Code Block 1--*/\n",
    "\n",
    "mountain = \"Denali\"\n",
    "nickname = 'Mt. McKinley'\n",
    "elevation == 20322 \n",
    "\n",
    "print (mountain + \", once known as \"\" + nickname + \",)\n",
    "print ()\"is \" + elevation + '' above sea level.' )"
   ]
  },
  {
   "cell_type": "markdown",
   "metadata": {},
   "source": [
    "### 2. (15 pts) Lists and iteration\n",
    "**Write code in the cell block below that:**\n",
    "1. Assigns **W:\\859_data\\texas** to a string variable called `dataFolder`\n",
    "* Creates a list called `dataList` containing the following string items:\n",
    "    * **Roads.shp**\n",
    "    * **lookup.dbf**\n",
    "    * **soils.tif**\n",
    "    \n",
    "    \n",
    "3. Creates a string variable called `userItem` and sets it to the string **streams.shp**.\n",
    "\n",
    "* Adds the `userItem` string object to the `dataList` list.\n",
    "\n",
    "* Loops through each item in the `dataList` list, and for each item prints the full Windows path of each dataset, created by concatenating the `dataFolder` string with the item in the `dataList`. For example, the first item printed would be: `W:\\859_data\\texas\\Roads.shp`."
   ]
  },
  {
   "cell_type": "code",
   "execution_count": 1,
   "metadata": {},
   "outputs": [
    {
     "name": "stdout",
     "output_type": "stream",
     "text": [
      "W:\\859_data\\texas\\Roads.shp\n",
      "W:\\859_data\\texas\\lookup.dbf\n",
      "W:\\859_data\\texas\\soils.tif\n",
      "W:\\859_data\\texas\\streams.shp\n"
     ]
    }
   ],
   "source": [
    "dataFolder = \n",
    "dataList = \n",
    "userItem = "
   ]
  },
  {
   "cell_type": "markdown",
   "metadata": {},
   "source": [
    "### 3. (25 pts) Lists and iteration\n",
    "**Write code in the cell block below that:**\n",
    "\n",
    "1. Creates an empty list variable named `userNumbers`.\n",
    "\n",
    "2. Iterates the following process three times (using the `range()` function and a `for` loop):\n",
    " * Uses the `input()` function to ask the user to \"enter an integer\".\n",
    " * Adds the user supplied integer to the `userNumbers` list created in 3.1. \n",
    "\n",
    "\n",
    "3. Sorts the `userNumbers` in ascending *numeric* order. \n",
    "\n",
    "4. Prints the highest value in the `userNumbers`, i.e., the last value when sorted, to the interactive window.\n",
    "\n",
    "Run your script using the numbers: `1`, `100`, and `20`. Does it return `100`? It should, but if not, try to explain in words what might be going wrong. This can be done as comments at the end of your script."
   ]
  },
  {
   "cell_type": "code",
   "execution_count": 3,
   "metadata": {},
   "outputs": [
    {
     "name": "stdout",
     "output_type": "stream",
     "text": [
      "enter an integer: 1\n",
      "enter an integer: 100\n",
      "enter an integer: 20\n",
      "100\n"
     ]
    }
   ],
   "source": []
  },
  {
   "cell_type": "markdown",
   "metadata": {},
   "source": [
    "#### 3a *Bonus point*\n",
    "Copy your code cell above and modify it so that it again sorts the `userNumbers`, but this time in *descending* numeric order, and then prints the entire contents of the list. "
   ]
  },
  {
   "cell_type": "code",
   "execution_count": 4,
   "metadata": {},
   "outputs": [
    {
     "name": "stdout",
     "output_type": "stream",
     "text": [
      "enter an integer: 1\n",
      "enter an integer: 100\n",
      "enter an integer: 20\n",
      "[100, 20, 1]\n"
     ]
    }
   ],
   "source": []
  },
  {
   "cell_type": "markdown",
   "metadata": {},
   "source": [
    "---\n",
    "## Part 2\n",
    "The remaining questions deal with datasets related to [Global Fishing Watch](http://globalfishingwatch.org/)'s [Daily Fishing Effort and Vessel Presence] research on [Global Patterns of Transshipment Behavior](https://github.com/GlobalFishingWatch/paper-identifying-global-patterns-of-transshipment). Two data files from the project's database - `transshipment_vessels_20180723.csv` and `loitering_events_20180723.csv`, as well as a `READ_ME` text file describing these files, should be in your ProblemSet2 workspace. \n",
    "\n",
    "Take a look at these files and familiarize yourself with the data: both its format and what data each includes.\n",
    "\n",
    "You will, through a series of semi-guided steps, pull the data stored in these files into Python objects that will allow us to query the data. More specically, you will:\n",
    "* Create a dictionary listing the attributes of each vessel listed in the `transshipment_vessels...` file\n",
    "* Loop through the records in the `loitering_events...` dataset, and for each vessel observed within a defined geographic region, print information about the vessel. \n",
    "\n"
   ]
  },
  {
   "cell_type": "markdown",
   "metadata": {},
   "source": [
    "---\n",
    "### 4. (25 pts) Lists, dictionaries, string manipulation, and iteration\n",
    "The task here is to convert the data held in the `transshipment_vessels_20180723.csv` into a format such that we can specify the vessel's Maritime Mobile Service Identity or **MMSI** code and it will return the fleet to which the vessel belongs. \n",
    "\n",
    "The sequence of tasks provided below will lead to than end, but you will need to add the correct code to execute the steps. Complete the following tasks in the code boxes below them. "
   ]
  },
  {
   "cell_type": "markdown",
   "metadata": {},
   "source": [
    "##### Task 1: Reading in the data and displaying the column headers\n",
    "<u>In the cell below, write code that:</u>\n",
    "1. Creates a file object named `fileObj` by opening the `transshipment_vessels_20180723.csv` text file. [This is done for you.]\n",
    "\n",
    "1. Reads in the entire contents (.i.e. all lines) of the `fileObj` into a list variable named `lineList`. *Be sure to close the file once you have its contents stored in a local variable.*\n",
    "\n",
    "1. Creates a variable called `headerLineString` to hold the first item in the`lineList` list\n",
    "\n",
    "1. Prints the contents of this `headerLineString` variable. "
   ]
  },
  {
   "cell_type": "code",
   "execution_count": 37,
   "metadata": {},
   "outputs": [
    {
     "name": "stdout",
     "output_type": "stream",
     "text": [
      "mmsi,shipname,callsign,fleet_iso3,fleet_name,imo\n",
      "\n"
     ]
    }
   ],
   "source": [
    "##--Task 1--##\n",
    "\n",
    "#Create a Python file object, i.e., a link to the file's contents\n",
    "fileObj = open(file='transshipment_vessels_20180723.csv',mode='r')\n",
    "#Read the entire contents into a list object\n",
    "lineList = fileObj.readlines()\n",
    "#Release the link to the file objects (now that we have all its contents)\n",
    "fileObj.close() #Close the file\n",
    "#Save the contents of the first line in the list of lines to the variable \"headerLine\"\n",
    "headerLineString = \n",
    "#Print the contents of the headerLine\n",
    "print(headerLineString)"
   ]
  },
  {
   "cell_type": "markdown",
   "metadata": {},
   "source": [
    "##### Task 2: Splitting the header string into a list of column names and extracting index values\n",
    "<u>In the cell below, write code that:</u>\n",
    "5. *Splits* the contents of the first line into a list variable called `headerItems`. (Note that the items in this file are separated by commas...)\n",
    "\n",
    "1. Uses the `index()` function to find the indices associated with the `mmsi`,`shipname`, and `fleet_name` items in the `headerItems` list and assigns the index value to a variables called `mmsa_idx`, `name_idx`, and `fleet_idx`, respectively. ***If you are unable to do this step, just set the `mmsi_idx`, `name_idx`, and `fleet_idx` variables to the numbers 0,1, 4, respectively***\n",
    "\n",
    "1. Prints the value of each index value."
   ]
  },
  {
   "cell_type": "code",
   "execution_count": 38,
   "metadata": {},
   "outputs": [
    {
     "name": "stdout",
     "output_type": "stream",
     "text": [
      "0 1 4\n"
     ]
    }
   ],
   "source": [
    "##--Task 2--##\n",
    "\n",
    "#Split the headerLineString into a list of header items\n",
    "headerItems = \n",
    "\n",
    "#List the index of the mmsa, shipname, and fleet_name values\n",
    "mmsi_idx=\n",
    "name_idx=\n",
    "fleet_idx=\n",
    "\n",
    "#Print the values\n",
    "print(mmsi_idx,name_idx,fleet_idx)"
   ]
  },
  {
   "cell_type": "markdown",
   "metadata": {},
   "source": [
    "##### Task 3: Iterating through the data lines and adding values to a dictionary\n",
    "<u>In the cell below, write code that:</u>\n",
    "8. Creates and empty dictionary object named `vesselDict`\n",
    "* Loops through all the *data* lines in the lineList variable created above. (Remember to skip the first line as it contains header information, not actual data). \n",
    "* In each iteration of the loop:\n",
    " * Splits the data line (a string) into a list of values\n",
    " * Extracts the `mmsi` value from this list. Use the `mmsi_idx` variable created above to get this value. \n",
    " * Likewise, extracts the `fleet` value from this list\n",
    " * Adds an item to the `vesselDict` dictionary with the *key* set to the mmsi and the *value* set to the fleet. "
   ]
  },
  {
   "cell_type": "code",
   "execution_count": 35,
   "metadata": {},
   "outputs": [],
   "source": [
    "vesselDict = "
   ]
  },
  {
   "cell_type": "markdown",
   "metadata": {},
   "source": [
    "##### Task 4: Using your dictionary\n",
    "<u>In the cell below, write code that:</u>\n",
    "11. Assigns the value 25879900 to a variable named `vesselID`\n",
    "* Uses the `vesselDict` dictionary to lookup the fleet value for the vessel with the MMSI equal to the `vesselID` value.  \n",
    "* Prints the statement: `Vessel # 25879900 flies the flag of Norway`, using the `vesselID` and the fleet value extracted above to construct the string that's printed. "
   ]
  },
  {
   "cell_type": "code",
   "execution_count": 40,
   "metadata": {},
   "outputs": [
    {
     "name": "stdout",
     "output_type": "stream",
     "text": [
      "Vessel # 25879900 flies the flag of Norway\n"
     ]
    }
   ],
   "source": [
    "vesselID = 25879900"
   ]
  },
  {
   "cell_type": "markdown",
   "metadata": {},
   "source": [
    "---\n",
    "### 5.  (25 pts) \n",
    "In this exercise, we use the GFW \"loitering event\" dataset. This dataset contains location and movement data of vessels classified as moving idly, as opposed to steaming to a certain destination. We want to write some Python code that scans these data for particular records, namely those loitering events that cross the equator (from south to north) and originated within a certain longitudinal band (from 165°E to 170°E). And if any records are found, it prints out the MMSI of the vessel and its fleet - using the dictionary created above to tell us. \n",
    "\n",
    "I've provided the following pseudocode to help you. Feel free to deviate from it, but I've given it to you to help out, not to trick you or anything like that."
   ]
  },
  {
   "cell_type": "markdown",
   "metadata": {},
   "source": [
    "**Pseudocode for Task 5**:\n",
    "\n",
    "1. Open the `loitering_events_20180723.csv` file into a file object variable. *(Tip: the code provided in Part 4A above can serve as a good template)*\n",
    "\n",
    "* Construct a list of all lines in the csv file. *(Again, just as you did above...)*\n",
    "\n",
    "* Loop through each *data* line in this line list, and at each iteration:\n",
    "\n",
    " * Split the line string into a list of data items.\n",
    " \n",
    " * Store the `transshipment_mmsi`, `starting` & `ending latitude`, and `starting longitude` values into their own respective variables (e.g. `mmsi = ...`) \n",
    " \n",
    " * Examines the starting and ending latitude (the 2nd and 4th columns in the csv) to determine whether the event crosses the equator. You might want to create a Boolean variable that holds this value, and it would be \"true\" if the starting latitude is less than zero and the ending latitude is greater than zero.\n",
    " \n",
    " * Examines the starting longitude to see whether it falls between 165 and 170. Again, it's useful to create a Boolean variable that store whether this is true or false. \n",
    " \n",
    " * If both the latitude and longitude constraints are true, then use the value of the `transmission_mmsi` for the current line to query the `vesselsDict` created above to print the vessel's *mmsi* and its *fleet*. \n",
    " \n",
    " \n",
    "* **BONUS**: If no vessels meet your criteria, print a message that states \"No vessels met criteria\"\n",
    " \n",
    "►**Include copoius comments to your code block; they make it easier to award partial credit if you are unable to get all the code working**◄"
   ]
  },
  {
   "cell_type": "code",
   "execution_count": null,
   "metadata": {},
   "outputs": [],
   "source": []
  }
 ],
 "metadata": {
  "kernelspec": {
   "display_name": "Python 3",
   "language": "python",
   "name": "python3"
  },
  "language_info": {
   "codemirror_mode": {
    "name": "ipython",
    "version": 3
   },
   "file_extension": ".py",
   "mimetype": "text/x-python",
   "name": "python",
   "nbconvert_exporter": "python",
   "pygments_lexer": "ipython3",
   "version": "3.6.6"
  }
 },
 "nbformat": 4,
 "nbformat_minor": 2
}
